{
 "cells": [
  {
   "cell_type": "code",
   "execution_count": 27,
   "metadata": {},
   "outputs": [
    {
     "data": {
      "text/plain": [
       "144"
      ]
     },
     "execution_count": 27,
     "metadata": {},
     "output_type": "execute_result"
    }
   ],
   "source": [
    "import pandas as pd\n",
    "import matplotlib.pyplot as plt\n",
    "import numpy as np\n",
    "air_passengers = pd.read_csv('AirPassengers.csv',index_col='Month',parse_dates=True)\n",
    "air_passengers.tail()\n",
    "len(air_passengers)"
   ]
  },
  {
   "cell_type": "code",
   "execution_count": 2,
   "metadata": {},
   "outputs": [
    {
     "data": {
      "text/plain": [
       "<matplotlib.axes._subplots.AxesSubplot at 0x11ce6d190>"
      ]
     },
     "execution_count": 2,
     "metadata": {},
     "output_type": "execute_result"
    },
    {
     "data": {
      "image/png": "[encoded data removed]",
      "text/plain": [
       "<Figure size 432x288 with 1 Axes>"
      ]
     },
     "metadata": {
      "needs_background": "light"
     },
     "output_type": "display_data"
    }
   ],
   "source": [
    "air_passengers.plot()"
   ]
  },
  {
   "cell_type": "code",
   "execution_count": 3,
   "metadata": {},
   "outputs": [
    {
     "name": "stdout",
     "output_type": "stream",
     "text": [
      "Performing stepwise search to minimize aic\n",
      " ARIMA(2,1,2)(0,0,0)[0] intercept   : AIC=inf, Time=0.45 sec\n",
      " ARIMA(0,1,0)(0,0,0)[0] intercept   : AIC=1415.278, Time=0.01 sec\n",
      " ARIMA(1,1,0)(0,0,0)[0] intercept   : AIC=1403.473, Time=0.06 sec\n",
      " ARIMA(0,1,1)(0,0,0)[0] intercept   : AIC=1398.827, Time=0.08 sec\n",
      " ARIMA(0,1,0)(0,0,0)[0]             : AIC=1413.909, Time=0.01 sec\n",
      " ARIMA(1,1,1)(0,0,0)[0] intercept   : AIC=1396.121, Time=0.14 sec\n",
      " ARIMA(2,1,1)(0,0,0)[0] intercept   : AIC=inf, Time=0.24 sec\n",
      " ARIMA(1,1,2)(0,0,0)[0] intercept   : AIC=inf, Time=0.15 sec\n",
      " ARIMA(0,1,2)(0,0,0)[0] intercept   : AIC=1398.386, Time=0.11 sec\n",
      " ARIMA(2,1,0)(0,0,0)[0] intercept   : AIC=1397.975, Time=0.09 sec\n",
      " ARIMA(1,1,1)(0,0,0)[0]             : AIC=1394.683, Time=0.07 sec\n",
      " ARIMA(0,1,1)(0,0,0)[0]             : AIC=1397.258, Time=0.06 sec\n",
      " ARIMA(1,1,0)(0,0,0)[0]             : AIC=1401.852, Time=0.04 sec\n",
      " ARIMA(2,1,1)(0,0,0)[0]             : AIC=1378.338, Time=0.09 sec\n",
      " ARIMA(2,1,0)(0,0,0)[0]             : AIC=1396.588, Time=0.04 sec\n",
      " ARIMA(3,1,1)(0,0,0)[0]             : AIC=1379.614, Time=0.16 sec\n",
      " ARIMA(2,1,2)(0,0,0)[0]             : AIC=inf, Time=0.32 sec\n",
      " ARIMA(1,1,2)(0,0,0)[0]             : AIC=1385.498, Time=0.08 sec\n",
      " ARIMA(3,1,0)(0,0,0)[0]             : AIC=1395.021, Time=0.05 sec\n",
      " ARIMA(3,1,2)(0,0,0)[0]             : AIC=1377.086, Time=0.22 sec\n",
      " ARIMA(4,1,2)(0,0,0)[0]             : AIC=1373.560, Time=0.27 sec\n",
      " ARIMA(4,1,1)(0,0,0)[0]             : AIC=1384.053, Time=0.20 sec\n",
      " ARIMA(5,1,2)(0,0,0)[0]             : AIC=1375.353, Time=0.25 sec\n",
      " ARIMA(4,1,3)(0,0,0)[0]             : AIC=1365.825, Time=0.43 sec\n",
      " ARIMA(3,1,3)(0,0,0)[0]             : AIC=inf, Time=0.51 sec\n",
      " ARIMA(5,1,3)(0,0,0)[0]             : AIC=inf, Time=0.47 sec\n",
      " ARIMA(4,1,4)(0,0,0)[0]             : AIC=inf, Time=0.50 sec\n",
      " ARIMA(3,1,4)(0,0,0)[0]             : AIC=inf, Time=0.48 sec\n",
      " ARIMA(5,1,4)(0,0,0)[0]             : AIC=inf, Time=0.48 sec\n",
      " ARIMA(4,1,3)(0,0,0)[0] intercept   : AIC=inf, Time=0.53 sec\n",
      "\n",
      "Best model:  ARIMA(4,1,3)(0,0,0)[0]          \n",
      "Total fit time: 6.638 seconds\n"
     ]
    },
    {
     "data": {
      "text/html": [
       "<table class=\"simpletable\">\n",
       "<caption>SARIMAX Results</caption>\n",
       "<tr>\n",
       "  <th>Dep. Variable:</th>           <td>y</td>        <th>  No. Observations:  </th>    <td>144</td>  \n",
       "</tr>\n",
       "<tr>\n",
       "  <th>Model:</th>           <td>SARIMAX(4, 1, 3)</td> <th>  Log Likelihood     </th> <td>-674.913</td>\n",
       "</tr>\n",
       "<tr>\n",
       "  <th>Date:</th>            <td>Tue, 19 Jan 2021</td> <th>  AIC                </th> <td>1365.825</td>\n",
       "</tr>\n",
       "<tr>\n",
       "  <th>Time:</th>                <td>19:43:38</td>     <th>  BIC                </th> <td>1389.528</td>\n",
       "</tr>\n",
       "<tr>\n",
       "  <th>Sample:</th>                  <td>0</td>        <th>  HQIC               </th> <td>1375.457</td>\n",
       "</tr>\n",
       "<tr>\n",
       "  <th></th>                      <td> - 144</td>      <th>                     </th>     <td> </td>   \n",
       "</tr>\n",
       "<tr>\n",
       "  <th>Covariance Type:</th>        <td>opg</td>       <th>                     </th>     <td> </td>   \n",
       "</tr>\n",
       "</table>\n",
       "<table class=\"simpletable\">\n",
       "<tr>\n",
       "     <td></td>       <th>coef</th>     <th>std err</th>      <th>z</th>      <th>P>|z|</th>  <th>[0.025</th>    <th>0.975]</th>  \n",
       "</tr>\n",
       "<tr>\n",
       "  <th>ar.L1</th>  <td>   -0.5582</td> <td>    0.117</td> <td>   -4.781</td> <td> 0.000</td> <td>   -0.787</td> <td>   -0.329</td>\n",
       "</tr>\n",
       "<tr>\n",
       "  <th>ar.L2</th>  <td>    0.4934</td> <td>    0.113</td> <td>    4.373</td> <td> 0.000</td> <td>    0.272</td> <td>    0.715</td>\n",
       "</tr>\n",
       "<tr>\n",
       "  <th>ar.L3</th>  <td>    0.1238</td> <td>    0.128</td> <td>    0.969</td> <td> 0.332</td> <td>   -0.126</td> <td>    0.374</td>\n",
       "</tr>\n",
       "<tr>\n",
       "  <th>ar.L4</th>  <td>   -0.5213</td> <td>    0.085</td> <td>   -6.136</td> <td> 0.000</td> <td>   -0.688</td> <td>   -0.355</td>\n",
       "</tr>\n",
       "<tr>\n",
       "  <th>ma.L1</th>  <td>    0.9070</td> <td>    0.094</td> <td>    9.656</td> <td> 0.000</td> <td>    0.723</td> <td>    1.091</td>\n",
       "</tr>\n",
       "<tr>\n",
       "  <th>ma.L2</th>  <td>   -0.5589</td> <td>    0.145</td> <td>   -3.864</td> <td> 0.000</td> <td>   -0.842</td> <td>   -0.275</td>\n",
       "</tr>\n",
       "<tr>\n",
       "  <th>ma.L3</th>  <td>   -0.7384</td> <td>    0.109</td> <td>   -6.776</td> <td> 0.000</td> <td>   -0.952</td> <td>   -0.525</td>\n",
       "</tr>\n",
       "<tr>\n",
       "  <th>sigma2</th> <td>  724.2188</td> <td>   85.623</td> <td>    8.458</td> <td> 0.000</td> <td>  556.401</td> <td>  892.037</td>\n",
       "</tr>\n",
       "</table>\n",
       "<table class=\"simpletable\">\n",
       "<tr>\n",
       "  <th>Ljung-Box (Q):</th>          <td>256.02</td> <th>  Jarque-Bera (JB):  </th> <td>14.59</td>\n",
       "</tr>\n",
       "<tr>\n",
       "  <th>Prob(Q):</th>                 <td>0.00</td>  <th>  Prob(JB):          </th> <td>0.00</td> \n",
       "</tr>\n",
       "<tr>\n",
       "  <th>Heteroskedasticity (H):</th>  <td>5.66</td>  <th>  Skew:              </th> <td>0.74</td> \n",
       "</tr>\n",
       "<tr>\n",
       "  <th>Prob(H) (two-sided):</th>     <td>0.00</td>  <th>  Kurtosis:          </th> <td>3.52</td> \n",
       "</tr>\n",
       "</table><br/><br/>Warnings:<br/>[1] Covariance matrix calculated using the outer product of gradients (complex-step)."
      ],
      "text/plain": [
       "<class 'statsmodels.iolib.summary.Summary'>\n",
       "\"\"\"\n",
       "                               SARIMAX Results                                \n",
       "==============================================================================\n",
       "Dep. Variable:                      y   No. Observations:                  144\n",
       "Model:               SARIMAX(4, 1, 3)   Log Likelihood                -674.913\n",
       "Date:                Tue, 19 Jan 2021   AIC                           1365.825\n",
       "Time:                        19:43:38   BIC                           1389.528\n",
       "Sample:                             0   HQIC                          1375.457\n",
       "                                - 144                                         \n",
       "Covariance Type:                  opg                                         \n",
       "==============================================================================\n",
       "                 coef    std err          z      P>|z|      [0.025      0.975]\n",
       "------------------------------------------------------------------------------\n",
       "ar.L1         -0.5582      0.117     -4.781      0.000      -0.787      -0.329\n",
       "ar.L2          0.4934      0.113      4.373      0.000       0.272       0.715\n",
       "ar.L3          0.1238      0.128      0.969      0.332      -0.126       0.374\n",
       "ar.L4         -0.5213      0.085     -6.136      0.000      -0.688      -0.355\n",
       "ma.L1          0.9070      0.094      9.656      0.000       0.723       1.091\n",
       "ma.L2         -0.5589      0.145     -3.864      0.000      -0.842      -0.275\n",
       "ma.L3         -0.7384      0.109     -6.776      0.000      -0.952      -0.525\n",
       "sigma2       724.2188     85.623      8.458      0.000     556.401     892.037\n",
       "===================================================================================\n",
       "Ljung-Box (Q):                      256.02   Jarque-Bera (JB):                14.59\n",
       "Prob(Q):                              0.00   Prob(JB):                         0.00\n",
       "Heteroskedasticity (H):               5.66   Skew:                             0.74\n",
       "Prob(H) (two-sided):                  0.00   Kurtosis:                         3.52\n",
       "===================================================================================\n",
       "\n",
       "Warnings:\n",
       "[1] Covariance matrix calculated using the outer product of gradients (complex-step).\n",
       "\"\"\""
      ]
     },
     "execution_count": 3,
     "metadata": {},
     "output_type": "execute_result"
    }
   ],
   "source": [
    "from pmdarima import auto_arima\n",
    "import warnings\n",
    "warnings.filterwarnings('ignore')\n",
    "auto = auto_arima(air_passengers['#Passengers'],trace=True,suppress_warnings=True)\n",
    "auto.summary()"
   ]
  },
  {
   "cell_type": "code",
   "execution_count": 4,
   "metadata": {},
   "outputs": [],
   "source": [
    "from statsmodels.tsa.arima_model import ARIMA"
   ]
  },
  {
   "cell_type": "code",
   "execution_count": 5,
   "metadata": {},
   "outputs": [
    {
     "name": "stdout",
     "output_type": "stream",
     "text": [
      "(114,) (30,)\n"
     ]
    }
   ],
   "source": [
    "train = air_passengers['#Passengers'].iloc[:-30]\n",
    "test = air_passengers['#Passengers'].iloc[-30:]\n",
    "print(train.shape,test.shape)"
   ]
  },
  {
   "cell_type": "code",
   "execution_count": 10,
   "metadata": {},
   "outputs": [
    {
     "data": {
      "text/html": [
       "<table class=\"simpletable\">\n",
       "<caption>ARIMA Model Results</caption>\n",
       "<tr>\n",
       "  <th>Dep. Variable:</th>   <td>D.#Passengers</td>  <th>  No. Observations:  </th>    <td>113</td>  \n",
       "</tr>\n",
       "<tr>\n",
       "  <th>Model:</th>          <td>ARIMA(4, 1, 2)</td>  <th>  Log Likelihood     </th> <td>-504.525</td>\n",
       "</tr>\n",
       "<tr>\n",
       "  <th>Method:</th>             <td>css-mle</td>     <th>  S.D. of innovations</th>  <td>20.562</td> \n",
       "</tr>\n",
       "<tr>\n",
       "  <th>Date:</th>          <td>Tue, 19 Jan 2021</td> <th>  AIC                </th> <td>1025.050</td>\n",
       "</tr>\n",
       "<tr>\n",
       "  <th>Time:</th>              <td>19:51:35</td>     <th>  BIC                </th> <td>1046.870</td>\n",
       "</tr>\n",
       "<tr>\n",
       "  <th>Sample:</th>           <td>02-01-1949</td>    <th>  HQIC               </th> <td>1033.904</td>\n",
       "</tr>\n",
       "<tr>\n",
       "  <th></th>                 <td>- 06-01-1958</td>   <th>                     </th>     <td> </td>   \n",
       "</tr>\n",
       "</table>\n",
       "<table class=\"simpletable\">\n",
       "<tr>\n",
       "           <td></td>              <th>coef</th>     <th>std err</th>      <th>z</th>      <th>P>|z|</th>  <th>[0.025</th>    <th>0.975]</th>  \n",
       "</tr>\n",
       "<tr>\n",
       "  <th>const</th>               <td>    2.5050</td> <td>    0.132</td> <td>   18.990</td> <td> 0.000</td> <td>    2.246</td> <td>    2.764</td>\n",
       "</tr>\n",
       "<tr>\n",
       "  <th>ar.L1.D.#Passengers</th> <td>    0.2737</td> <td>    0.141</td> <td>    1.942</td> <td> 0.052</td> <td>   -0.003</td> <td>    0.550</td>\n",
       "</tr>\n",
       "<tr>\n",
       "  <th>ar.L2.D.#Passengers</th> <td>    0.2797</td> <td>    0.165</td> <td>    1.697</td> <td> 0.090</td> <td>   -0.043</td> <td>    0.603</td>\n",
       "</tr>\n",
       "<tr>\n",
       "  <th>ar.L3.D.#Passengers</th> <td>   -0.1027</td> <td>    0.139</td> <td>   -0.739</td> <td> 0.460</td> <td>   -0.375</td> <td>    0.170</td>\n",
       "</tr>\n",
       "<tr>\n",
       "  <th>ar.L4.D.#Passengers</th> <td>   -0.2683</td> <td>    0.106</td> <td>   -2.540</td> <td> 0.011</td> <td>   -0.475</td> <td>   -0.061</td>\n",
       "</tr>\n",
       "<tr>\n",
       "  <th>ma.L1.D.#Passengers</th> <td>   -0.1716</td> <td>    0.141</td> <td>   -1.220</td> <td> 0.223</td> <td>   -0.447</td> <td>    0.104</td>\n",
       "</tr>\n",
       "<tr>\n",
       "  <th>ma.L2.D.#Passengers</th> <td>   -0.8284</td> <td>    0.138</td> <td>   -5.993</td> <td> 0.000</td> <td>   -1.099</td> <td>   -0.557</td>\n",
       "</tr>\n",
       "</table>\n",
       "<table class=\"simpletable\">\n",
       "<caption>Roots</caption>\n",
       "<tr>\n",
       "    <td></td>   <th>            Real</th>  <th>         Imaginary</th> <th>         Modulus</th>  <th>        Frequency</th>\n",
       "</tr>\n",
       "<tr>\n",
       "  <th>AR.1</th> <td>           1.0246</td> <td>          -0.7245j</td> <td>           1.2549</td> <td>          -0.0980</td>\n",
       "</tr>\n",
       "<tr>\n",
       "  <th>AR.2</th> <td>           1.0246</td> <td>          +0.7245j</td> <td>           1.2549</td> <td>           0.0980</td>\n",
       "</tr>\n",
       "<tr>\n",
       "  <th>AR.3</th> <td>          -1.2160</td> <td>          -0.9424j</td> <td>           1.5384</td> <td>          -0.3951</td>\n",
       "</tr>\n",
       "<tr>\n",
       "  <th>AR.4</th> <td>          -1.2160</td> <td>          +0.9424j</td> <td>           1.5384</td> <td>           0.3951</td>\n",
       "</tr>\n",
       "<tr>\n",
       "  <th>MA.1</th> <td>           1.0000</td> <td>          +0.0000j</td> <td>           1.0000</td> <td>           0.0000</td>\n",
       "</tr>\n",
       "<tr>\n",
       "  <th>MA.2</th> <td>          -1.2072</td> <td>          +0.0000j</td> <td>           1.2072</td> <td>           0.5000</td>\n",
       "</tr>\n",
       "</table>"
      ],
      "text/plain": [
       "<class 'statsmodels.iolib.summary.Summary'>\n",
       "\"\"\"\n",
       "                             ARIMA Model Results                              \n",
       "==============================================================================\n",
       "Dep. Variable:          D.#Passengers   No. Observations:                  113\n",
       "Model:                 ARIMA(4, 1, 2)   Log Likelihood                -504.525\n",
       "Method:                       css-mle   S.D. of innovations             20.562\n",
       "Date:                Tue, 19 Jan 2021   AIC                           1025.050\n",
       "Time:                        19:51:35   BIC                           1046.870\n",
       "Sample:                    02-01-1949   HQIC                          1033.904\n",
       "                         - 06-01-1958                                         \n",
       "=======================================================================================\n",
       "                          coef    std err          z      P>|z|      [0.025      0.975]\n",
       "---------------------------------------------------------------------------------------\n",
       "const                   2.5050      0.132     18.990      0.000       2.246       2.764\n",
       "ar.L1.D.#Passengers     0.2737      0.141      1.942      0.052      -0.003       0.550\n",
       "ar.L2.D.#Passengers     0.2797      0.165      1.697      0.090      -0.043       0.603\n",
       "ar.L3.D.#Passengers    -0.1027      0.139     -0.739      0.460      -0.375       0.170\n",
       "ar.L4.D.#Passengers    -0.2683      0.106     -2.540      0.011      -0.475      -0.061\n",
       "ma.L1.D.#Passengers    -0.1716      0.141     -1.220      0.223      -0.447       0.104\n",
       "ma.L2.D.#Passengers    -0.8284      0.138     -5.993      0.000      -1.099      -0.557\n",
       "                                    Roots                                    \n",
       "=============================================================================\n",
       "                  Real          Imaginary           Modulus         Frequency\n",
       "-----------------------------------------------------------------------------\n",
       "AR.1            1.0246           -0.7245j            1.2549           -0.0980\n",
       "AR.2            1.0246           +0.7245j            1.2549            0.0980\n",
       "AR.3           -1.2160           -0.9424j            1.5384           -0.3951\n",
       "AR.4           -1.2160           +0.9424j            1.5384            0.3951\n",
       "MA.1            1.0000           +0.0000j            1.0000            0.0000\n",
       "MA.2           -1.2072           +0.0000j            1.2072            0.5000\n",
       "-----------------------------------------------------------------------------\n",
       "\"\"\""
      ]
     },
     "execution_count": 10,
     "metadata": {},
     "output_type": "execute_result"
    }
   ],
   "source": [
    "model = ARIMA(train,order=(4,1,2))\n",
    "model = model.fit()\n",
    "model.summary()"
   ]
  },
  {
   "cell_type": "code",
   "execution_count": 11,
   "metadata": {},
   "outputs": [
    {
     "name": "stdout",
     "output_type": "stream",
     "text": [
      "1958-07-01    435.111070\n",
      "1958-08-01    422.560297\n",
      "1958-09-01    409.785835\n",
      "1958-10-01    385.498130\n",
      "1958-11-01    378.584492\n",
      "1958-12-01    376.626484\n",
      "1959-01-01    382.126463\n",
      "1959-02-01    392.358652\n",
      "1959-03-01    400.801652\n",
      "1959-04-01    407.982983\n",
      "1959-05-01    411.831644\n",
      "1959-06-01    413.329320\n",
      "1959-07-01    413.861001\n",
      "1959-08-01    414.151483\n",
      "1959-09-01    415.241349\n",
      "1959-10-01    417.212525\n",
      "1959-11-01    419.932449\n",
      "1959-12-01    423.086429\n",
      "1960-01-01    426.263653\n",
      "1960-02-01    429.255292\n",
      "1960-03-01    431.957173\n",
      "1960-04-01    434.408994\n",
      "1960-05-01    436.724150\n",
      "1960-06-01    439.011510\n",
      "1960-07-01    441.356459\n",
      "1960-08-01    443.790522\n",
      "1960-09-01    446.304605\n",
      "1960-10-01    448.867059\n",
      "1960-11-01    451.440530\n",
      "1960-12-01    453.998419\n",
      "Freq: MS, dtype: float64\n"
     ]
    },
    {
     "data": {
      "text/plain": [
       "<matplotlib.axes._subplots.AxesSubplot at 0x121b5c910>"
      ]
     },
     "execution_count": 11,
     "metadata": {},
     "output_type": "execute_result"
    },
    {
     "data": {
      "image/png": "[encoded data removed]",
      "text/plain": [
       "<Figure size 432x288 with 1 Axes>"
      ]
     },
     "metadata": {
      "needs_background": "light"
     },
     "output_type": "display_data"
    }
   ],
   "source": [
    "start = len(train)\n",
    "end = len(train)+len(test)-1\n",
    "pred = model.predict(start=start,end=end,typ='levels')\n",
    "print(pred)\n",
    "pred.plot(legend=True)\n",
    "test.plot(legend=True)"
   ]
  },
  {
   "cell_type": "code",
   "execution_count": 12,
   "metadata": {},
   "outputs": [
    {
     "data": {
      "text/plain": [
       "442.0"
      ]
     },
     "execution_count": 12,
     "metadata": {},
     "output_type": "execute_result"
    }
   ],
   "source": [
    "test.mean()"
   ]
  },
  {
   "cell_type": "code",
   "execution_count": 13,
   "metadata": {},
   "outputs": [
    {
     "name": "stdout",
     "output_type": "stream",
     "text": [
      "70.40748570060462\n"
     ]
    }
   ],
   "source": [
    "from sklearn.metrics import mean_squared_error\n",
    "from math import sqrt\n",
    "rmse = sqrt(mean_squared_error(pred,test))\n",
    "print(rmse)"
   ]
  },
  {
   "cell_type": "code",
   "execution_count": 14,
   "metadata": {},
   "outputs": [],
   "source": [
    "model2 = ARIMA(air_passengers['#Passengers'],order=(4,1,2))\n",
    "model2 = model2.fit()"
   ]
  },
  {
   "cell_type": "code",
   "execution_count": 71,
   "metadata": {},
   "outputs": [
    {
     "name": "stdout",
     "output_type": "stream",
     "text": [
      "1961-01-01    480.646629\n",
      "1961-02-01    484.776776\n",
      "1961-03-01    511.932609\n",
      "1961-04-01    500.141049\n",
      "1961-05-01    497.767207\n",
      "1961-06-01    487.284861\n",
      "1961-07-01    483.090728\n",
      "1961-08-01    483.831441\n",
      "1961-09-01    487.983299\n",
      "1961-10-01    495.037339\n",
      "1961-11-01    501.351003\n",
      "Freq: MS, dtype: float64\n"
     ]
    }
   ],
   "source": [
    "future_dates = pd.date_range(start='1960-01-12',end='1960-01-22',freq='D')\n",
    "pred = model2.predict(start=144,end=154,typ='levels')\n",
    "print(pred)"
   ]
  },
  {
   "cell_type": "code",
   "execution_count": 66,
   "metadata": {},
   "outputs": [
    {
     "data": {
      "text/plain": [
       "<matplotlib.axes._subplots.AxesSubplot at 0x1236de490>"
      ]
     },
     "execution_count": 66,
     "metadata": {},
     "output_type": "execute_result"
    },
    {
     "data": {
      "image/png": "[encoded data removed]",
      "text/plain": [
       "<Figure size 432x288 with 1 Axes>"
      ]
     },
     "metadata": {
      "needs_background": "light"
     },
     "output_type": "display_data"
    }
   ],
   "source": [
    "pred.plot()"
   ]
  },
  {
   "cell_type": "code",
   "execution_count": null,
   "metadata": {},
   "outputs": [],
   "source": []
  }
 ],
 "metadata": {
  "kernelspec": {
   "display_name": "Python 3",
   "language": "python",
   "name": "python3"
  },
  "language_info": {
   "codemirror_mode": {
    "name": "ipython",
    "version": 3
   },
   "file_extension": ".py",
   "mimetype": "text/x-python",
   "name": "python",
   "nbconvert_exporter": "python",
   "pygments_lexer": "ipython3",
   "version": "3.8.3"
  }
 },
 "nbformat": 4,
 "nbformat_minor": 4
}
